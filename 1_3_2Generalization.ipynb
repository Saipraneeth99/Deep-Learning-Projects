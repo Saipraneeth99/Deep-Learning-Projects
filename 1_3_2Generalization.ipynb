{
  "cells": [
    {
      "cell_type": "markdown",
      "metadata": {
        "id": "view-in-github",
        "colab_type": "text"
      },
      "source": [
        "<a href=\"https://colab.research.google.com/github/Saipraneeth99/DeepLearning/blob/main/1_3_2Generalization.ipynb\" target=\"_parent\"><img src=\"https://colab.research.google.com/assets/colab-badge.svg\" alt=\"Open In Colab\"/></a>"
      ]
    },
    {
      "cell_type": "code",
      "execution_count": null,
      "metadata": {
        "id": "myg71cnWI9X3"
      },
      "outputs": [],
      "source": [
        "import torch\n",
        "import torchvision\n",
        "import torchvision.transforms as transforms\n",
        "from torchsummary import summary\n",
        "import numpy as np\n",
        "\n",
        "transform = transforms.Compose([transforms.ToTensor(), transforms.Normalize((0.1307,), (0.3081))])\n",
        "\n",
        "train_dataset = torchvision.datasets.MNIST('mnist_data/', train=True, download=True, transform=transform)\n",
        "\n",
        "# train_labels = train_dataset.targets.numpy()\n",
        "\n",
        "trainloader = torch.utils.data.DataLoader(train_dataset, batch_size=64, shuffle=True)\n",
        "test_dataset = torchvision.datasets.MNIST('mnist_data/', train=False, download=True, transform=transform)\n",
        "testloader = torch.utils.data.DataLoader(test_dataset, batch_size=1000, shuffle=False)\n",
        "\n"
      ]
    },
    {
      "cell_type": "code",
      "execution_count": null,
      "metadata": {
        "id": "q7Pd-2IzMZ8M"
      },
      "outputs": [],
      "source": [
        "# Define the DNN model\n",
        "import torch.nn as nn\n",
        "import torch.nn.functional as F\n",
        "from torchsummary import summary\n",
        "import torch.optim as optim\n",
        "import matplotlib.pyplot as plt\n",
        "\n",
        "class DNN(nn.Module):\n",
        "    def __init__(self,hidden):\n",
        "        super(DNN, self).__init__()\n",
        "        self.fc1 = nn.Linear(28 * 28, hidden)\n",
        "        self.fc2 = nn.Linear(hidden, 32)\n",
        "        self.fc3 = nn.Linear(32, 10)\n",
        "\n",
        "    def forward(self, x):\n",
        "        x = x.view(-1, 28 * 28)\n",
        "        x = F.relu(self.fc1(x))\n",
        "        x = F.relu(self.fc2(x))\n",
        "        x = self.fc3(x)\n",
        "        return F.log_softmax(x, dim=1)\n",
        "\n",
        "# Initialize the model, loss function, and optimizer\n"
      ]
    },
    {
      "cell_type": "code",
      "execution_count": null,
      "metadata": {
        "colab": {
          "base_uri": "https://localhost:8080/",
          "height": 443
        },
        "id": "Vlf58u1QVajz",
        "outputId": "3efb6cf4-b4f3-43da-f580-e258140b0aa5"
      },
      "outputs": [
        {
          "name": "stdout",
          "output_type": "stream",
          "text": [
            "Model 0 Training Done\n",
            "Model 1 Training Done\n",
            "Model 2 Training Done\n",
            "Model 3 Training Done\n",
            "Model 4 Training Done\n",
            "Model 5 Training Done\n",
            "Model 6 Training Done\n",
            "Model 7 Training Done\n",
            "Model 8 Training Done\n",
            "Model 9 Training Done\n"
          ]
        }
      ],
      "source": [
        "# i = 1\n",
        "Main_Train_acc = []\n",
        "Main_Test_acc = []\n",
        "Main_Train_loss = []\n",
        "Main_Test_loss = []\n",
        "for i in range(10):\n",
        "  model = DNN(8*(i+1))\n",
        "  criterion = nn.CrossEntropyLoss()\n",
        "  optimizer = optim.SGD(model.parameters(), lr=0.001, momentum=0.5)\n",
        "  train_losses = []\n",
        "  train_accuracies = []\n",
        "  test_losses = []\n",
        "  test_accuracy = []\n",
        "  for epoch in range(30):\n",
        "      total = 0\n",
        "      correct = 0\n",
        "      total_loss = 0\n",
        "      for batch_idx, (images, labels) in enumerate(trainloader):\n",
        "          optimizer.zero_grad()\n",
        "          outputs = model(images)\n",
        "          loss = criterion(outputs, labels)\n",
        "          loss.backward()\n",
        "          optimizer.step()\n",
        "          _, predicted = torch.max(outputs.data, 1)\n",
        "          total += labels.size(0)\n",
        "          correct += (predicted == labels).sum().item()\n",
        "          total_loss += loss.item() \n",
        "      train_losses.append(total_loss/total)\n",
        "      train_accuracies.append(100* correct/total)\n",
        "\n",
        "     \n",
        "\n",
        "      correct = 0\n",
        "      total = 0\n",
        "      with torch.no_grad():\n",
        "        losses= []\n",
        "        total_loss = 0\n",
        "        for data in testloader:\n",
        "          images, labels = data\n",
        "          outputs = model(images)\n",
        "          loss = criterion(outputs, labels)\n",
        "          _, predicted = torch.max(outputs.data, 1)\n",
        "          total += labels.size(0)\n",
        "          correct += (predicted == labels).sum().item()\n",
        "          total_loss += loss.item()\n",
        "        test_accuracy.append(100 *correct/total)\n",
        "        test_losses.append(total_loss/total)\n",
        "  print(\"Model {} Training Done\".format(i))\n",
        "  Main_Train_acc.append(train_accuracies[-1])\n",
        "  Main_Test_acc.append(test_accuracy[-1])\n",
        "  Main_Train_loss.append(train_losses[-1])\n",
        "  Main_Test_loss.append(test_losses[-1])\n"
      ]
    },
    {
      "cell_type": "code",
      "execution_count": null,
      "metadata": {
        "colab": {
          "base_uri": "https://localhost:8080/"
        },
        "id": "gWcqcUhpyEuE",
        "outputId": "dc6a0cca-661f-4ea0-841a-faeb45db5275"
      },
      "outputs": [
        {
          "name": "stdout",
          "output_type": "stream",
          "text": [
            "Number of parameters: 6898\n",
            "Number of parameters: 13434\n",
            "Number of parameters: 19970\n",
            "Number of parameters: 26506\n",
            "Number of parameters: 33042\n",
            "Number of parameters: 39578\n",
            "Number of parameters: 46114\n",
            "Number of parameters: 52650\n",
            "Number of parameters: 59186\n",
            "Number of parameters: 65722\n"
          ]
        }
      ],
      "source": [
        "paramArray = []\n",
        "for i in range(10):\n",
        "    model = DNN(8*(i+1))\n",
        "    params = sum(p.numel() for p in model.parameters())\n",
        "    paramArray.append(params)\n",
        "    print(\"Number of parameters:\", params)\n",
        "    "
      ]
    },
    {
      "cell_type": "code",
      "execution_count": null,
      "metadata": {
        "colab": {
          "base_uri": "https://localhost:8080/",
          "height": 513
        },
        "id": "XVtigKo1cdrW",
        "outputId": "c5ae36f1-9f55-4156-c1c8-e9fd1bfadf5c"
      },
      "outputs": [
        {
          "data": {
            "image/png": "[encoded data removed]",
            "text/plain": [
              "<Figure size 864x576 with 1 Axes>"
            ]
          },
          "metadata": {
            "needs_background": "light"
          },
          "output_type": "display_data"
        }
      ],
      "source": [
        "# Plot the loss over time\n",
        "fig, ax = plt.subplots(figsize=(12, 8))\n",
        "# ax.plot(losses)\n",
        "ax.set_title('Model Loss')\n",
        "ax.plot(paramArray,Main_Train_loss, 'g', label='Training Loss')\n",
        "ax.plot(paramArray,Main_Test_loss, 'r', label='Testing Loss')\n",
        "ax.legend()\n",
        "\n",
        "ax.set_xlabel('Parameters')\n",
        "ax.set_ylabel('Loss')\n",
        "plt.show()"
      ]
    },
    {
      "cell_type": "code",
      "execution_count": null,
      "metadata": {
        "colab": {
          "base_uri": "https://localhost:8080/",
          "height": 513
        },
        "id": "VJaDBSXe0h33",
        "outputId": "b95d0388-e7cd-4174-9950-f8fc41c7d6eb"
      },
      "outputs": [
        {
          "data": {
            "image/png": "[encoded data removed]",
            "text/plain": [
              "<Figure size 864x576 with 1 Axes>"
            ]
          },
          "metadata": {
            "needs_background": "light"
          },
          "output_type": "display_data"
        }
      ],
      "source": [
        "# Plot the loss over time\n",
        "fig, ax = plt.subplots(figsize=(12, 8))\n",
        "# ax.plot(losses)\n",
        "ax.set_title('Model Loss')\n",
        "ax.plot(paramArray,Main_Train_acc, 'g', label='Training accuracy')\n",
        "ax.plot(paramArray,Main_Test_acc, 'r', label='Testing accuracy')\n",
        "ax.legend()\n",
        "ax\n",
        "ax.set_xlabel('Parameters')\n",
        "ax.set_ylabel('Accuracy')\n",
        "plt.show()"
      ]
    },
    {
      "cell_type": "code",
      "execution_count": null,
      "metadata": {
        "id": "dfmnRnvl5136",
        "outputId": "a8b422a3-afd8-4494-c401-92a55b524471"
      },
      "outputs": [
        {
          "data": {
            "text/plain": [
              "[11.236666666666666,\n",
              " 92.225,\n",
              " 93.825,\n",
              " 94.245,\n",
              " 94.42,\n",
              " 94.95333333333333,\n",
              " 95.07166666666667,\n",
              " 94.97333333333333,\n",
              " 95.08333333333333,\n",
              " 95.22333333333333]"
            ]
          },
          "execution_count": 30,
          "metadata": {},
          "output_type": "execute_result"
        }
      ],
      "source": [
        "Main_Train_acc"
      ]
    },
    {
      "cell_type": "code",
      "execution_count": null,
      "metadata": {
        "id": "kvLrkulE5136"
      },
      "outputs": [],
      "source": []
    },
    {
      "cell_type": "code",
      "execution_count": null,
      "metadata": {
        "id": "-oLdAVek5136"
      },
      "outputs": [],
      "source": []
    },
    {
      "cell_type": "code",
      "execution_count": null,
      "metadata": {
        "id": "5w7fXc845136"
      },
      "outputs": [],
      "source": []
    },
    {
      "cell_type": "code",
      "execution_count": null,
      "metadata": {
        "id": "pOo-wJkW5137"
      },
      "outputs": [],
      "source": []
    },
    {
      "cell_type": "code",
      "execution_count": null,
      "metadata": {
        "id": "xrVbWIIC5137"
      },
      "outputs": [],
      "source": []
    }
  ],
  "metadata": {
    "accelerator": "GPU",
    "colab": {
      "provenance": [],
      "include_colab_link": true
    },
    "gpuClass": "standard",
    "kernelspec": {
      "display_name": "Python 3 (ipykernel)",
      "language": "python",
      "name": "python3"
    },
    "language_info": {
      "codemirror_mode": {
        "name": "ipython",
        "version": 3
      },
      "file_extension": ".py",
      "mimetype": "text/x-python",
      "name": "python",
      "nbconvert_exporter": "python",
      "pygments_lexer": "ipython3",
      "version": "3.9.12"
    }
  },
  "nbformat": 4,
  "nbformat_minor": 0
}