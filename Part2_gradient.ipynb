{
  "cells": [
    {
      "cell_type": "markdown",
      "metadata": {
        "id": "view-in-github",
        "colab_type": "text"
      },
      "source": [
        "<a href=\"https://colab.research.google.com/github/Saipraneeth99/DeepLearning/blob/main/Part2_gradient.ipynb\" target=\"_parent\"><img src=\"https://colab.research.google.com/assets/colab-badge.svg\" alt=\"Open In Colab\"/></a>"
      ]
    },
    {
      "cell_type": "markdown",
      "source": [
        "Non Linear Functions"
      ],
      "metadata": {
        "id": "lWQ8txCiDA74"
      }
    },
    {
      "cell_type": "code",
      "execution_count": 58,
      "metadata": {
        "id": "Qg8jMadHyTpx"
      },
      "outputs": [],
      "source": [
        "import torch\n",
        "import numpy as np\n",
        "import matplotlib.pyplot as plt\n",
        "from torchsummary import summary\n",
        "\n",
        "# Generate training data\n",
        "def function1():\n",
        "  x = np.linspace(-2 * np.pi, 2 * np.pi, 2000)\n",
        "  y =  2*np.sin(np.pi * x) - 2\n",
        "  return x,y\n"
      ]
    },
    {
      "cell_type": "markdown",
      "source": [
        "Converting into Pytorch Tensor\n"
      ],
      "metadata": {
        "id": "aVbByNVIDLZv"
      }
    },
    {
      "cell_type": "code",
      "source": [
        "# Convert to PyTorch tensors\n",
        "def convertToTensors(x,y):\n",
        "  x_tensor = torch.from_numpy(x).float().unsqueeze(1)\n",
        "  y_tensor = torch.from_numpy(y).float().unsqueeze(1)\n",
        "  return x_tensor,y_tensor"
      ],
      "metadata": {
        "id": "5fcdMwyrDF6E"
      },
      "execution_count": 59,
      "outputs": []
    },
    {
      "cell_type": "markdown",
      "source": [
        "Shallow Neural Network"
      ],
      "metadata": {
        "id": "goIJ_CkMNHTD"
      }
    },
    {
      "cell_type": "code",
      "source": [],
      "metadata": {
        "id": "OFMSYqjaNGbB"
      },
      "execution_count": 60,
      "outputs": []
    },
    {
      "cell_type": "code",
      "source": [
        "# summary(modelShallow,(1,))"
      ],
      "metadata": {
        "id": "hE8mz3Cjn5oF"
      },
      "execution_count": 61,
      "outputs": []
    },
    {
      "cell_type": "code",
      "source": [
        "\n",
        "# model2 = DNN2()\n",
        "class DNN2(torch.nn.Module):\n",
        "    def __init__(self):\n",
        "        super(DNN2, self).__init__()\n",
        "        self.fc1 = torch.nn.Linear(1, 32)\n",
        "        self.fc2 = torch.nn.Linear(32, 64)\n",
        "        self.fc3 = torch.nn.Linear(64, 32)\n",
        "        self.fc4 = torch.nn.Linear(32, 1)\n",
        "        self.relu = torch.nn.ReLU()\n",
        "        \n",
        "    def forward(self, x):\n",
        "        x = self.relu(self.fc1(x))\n",
        "        x = self.relu(self.fc2(x))\n",
        "        x = self.relu(self.fc3(x))\n",
        "        x = self.fc4(x)\n",
        "        return x\n",
        "\n",
        "model2 = DNN2()\n",
        "total_params2 = sum(p.numel() for p in model2.parameters())\n",
        "print(\"Number of parameters in the above DNN model : \", total_params2)\n",
        "\n"
      ],
      "metadata": {
        "colab": {
          "base_uri": "https://localhost:8080/"
        },
        "id": "L7hHP7AjVKxc",
        "outputId": "56eaa15d-4667-44f0-8e45-5baed43147e1"
      },
      "execution_count": 62,
      "outputs": [
        {
          "output_type": "stream",
          "name": "stdout",
          "text": [
            "Number of parameters in the above DNN model :  4289\n"
          ]
        }
      ]
    },
    {
      "cell_type": "code",
      "source": [
        "# model2.to('cuda')\n",
        "summary(model2,(1,))"
      ],
      "metadata": {
        "colab": {
          "base_uri": "https://localhost:8080/"
        },
        "id": "DgrPJGE_oEF8",
        "outputId": "9f912e35-92a7-4fb3-d989-b30667738544"
      },
      "execution_count": 63,
      "outputs": [
        {
          "output_type": "stream",
          "name": "stdout",
          "text": [
            "----------------------------------------------------------------\n",
            "        Layer (type)               Output Shape         Param #\n",
            "================================================================\n",
            "            Linear-1                   [-1, 32]              64\n",
            "              ReLU-2                   [-1, 32]               0\n",
            "            Linear-3                   [-1, 64]           2,112\n",
            "              ReLU-4                   [-1, 64]               0\n",
            "            Linear-5                   [-1, 32]           2,080\n",
            "              ReLU-6                   [-1, 32]               0\n",
            "            Linear-7                    [-1, 1]              33\n",
            "================================================================\n",
            "Total params: 4,289\n",
            "Trainable params: 4,289\n",
            "Non-trainable params: 0\n",
            "----------------------------------------------------------------\n",
            "Input size (MB): 0.00\n",
            "Forward/backward pass size (MB): 0.00\n",
            "Params size (MB): 0.02\n",
            "Estimated Total Size (MB): 0.02\n",
            "----------------------------------------------------------------\n"
          ]
        }
      ]
    },
    {
      "cell_type": "code",
      "source": [
        "# summary(model3,(1,))"
      ],
      "metadata": {
        "id": "ZKOeLpG0oHPI"
      },
      "execution_count": 65,
      "outputs": []
    },
    {
      "cell_type": "code",
      "source": [],
      "metadata": {
        "id": "7SqNhuEADpiI"
      },
      "execution_count": 66,
      "outputs": []
    },
    {
      "cell_type": "markdown",
      "source": [
        "Loss Function and Training the model\n",
        "\n"
      ],
      "metadata": {
        "id": "7KrUQ8yGPeqZ"
      }
    },
    {
      "cell_type": "code",
      "source": [
        "x2,y2 = function1()\n",
        "x_tensor2,y_tensor2 = convertToTensors(x2,y2)\n",
        "model2 = DNN2()\n",
        "# Define the loss function and optimizer\n",
        "criterion = torch.nn.MSELoss()\n",
        "optimizer = torch.optim.Adam(model2.parameters(), lr=0.001)\n",
        "\n",
        "# Define the training loop\n",
        "training_losses = []\n",
        "training_accuracies = []\n",
        "grad_array = []\n",
        "for epoch in range(400):\n",
        "    loss_iter = 0.0\n",
        "    total_diff = 0.0\n",
        "  # for i, (x, y) in enumerate(zip(x2, y2), 0):\n",
        "    optimizer.zero_grad()\n",
        "    y_pred2 = model2(x_tensor2)\n",
        "    loss = criterion(y_pred2, y_tensor2)\n",
        "    loss.backward()\n",
        "    optimizer.step()\n",
        "\n",
        "    loss_iter += loss.item()\n",
        "    # total_diff += abs(y_pred2.item() - y_tensor2.item())\n",
        "\n",
        "    training_losses.append(loss_iter / len(x2))\n",
        "\n",
        "    # grad_all = 0.0\n",
        "    # for p in model2.parameters():\n",
        "    #   grad = 0.0\n",
        "    #   if p.grad is not None:\n",
        "    #     grad = (p.grad.cpu().data.numpy() ** 2).sum()\n",
        "    #   grad_all += grad\n",
        "    # grad_norm = grad_all ** 0.5\n",
        "    # grad_array.append(grad_norm)\n",
        "\n",
        "\n",
        "    # Get gradient norm (From slides)\n",
        "    gradAll = 0.0\n",
        "    for p in model2.parameters():\n",
        "        grad = 0.0\n",
        "        if p.grad is not None:\n",
        "            grad = (p.grad.cpu().data.numpy() ** 2).sum()\n",
        "        gradAll += grad\n",
        "    gradNorm = gradAll ** 0.5\n",
        "    grad_array.append(gradNorm)\n",
        "\n",
        "    # training_accuracies.append(1 - total_diff / len(x2))\n",
        "    if(epoch%100==0):\n",
        "      print('Epoch: %d Loss: %.3f ' % (epoch + 1, training_losses[-1])) # training_accuracies[-1]))\n"
      ],
      "metadata": {
        "colab": {
          "base_uri": "https://localhost:8080/"
        },
        "id": "OadiHbNsNHZw",
        "outputId": "5bdd84a4-fedf-4ea8-adfb-b4911e792fec"
      },
      "execution_count": 68,
      "outputs": [
        {
          "output_type": "stream",
          "name": "stdout",
          "text": [
            "Epoch: 1 Loss: 0.003 \n",
            "Epoch: 101 Loss: 0.001 \n",
            "Epoch: 201 Loss: 0.001 \n",
            "Epoch: 301 Loss: 0.001 \n"
          ]
        }
      ]
    },
    {
      "cell_type": "code",
      "source": [
        "\n",
        "# Plot the training loss and accuracy\n",
        "fig, ax = plt.subplots(figsize=(12, 8))\n",
        "ax.plot(training_losses, Label= 'Training Loss')\n",
        "ax.plot(grad_array, Label = ' Gradient Norm')\n",
        "ax.set_xlabel('Epoch')\n",
        "ax.set_ylabel('Value')\n",
        "plt.title('Training Loss over Epochs')\n",
        "plt.legend()\n",
        "plt.show()\n",
        "\n",
        "# plt.plot(training_accuracies)\n",
        "# plt.xlabel('Epoch')\n",
        "# plt.ylabel('Training Accuracy')\n",
        "# plt.title('Training Accuracy over Epochs')\n",
        "# plt.show()"
      ],
      "metadata": {
        "colab": {
          "base_uri": "https://localhost:8080/",
          "height": 513
        },
        "id": "e3swV2Z6OpUh",
        "outputId": "676ddea9-46ac-415c-cacd-7b241b5e0e10"
      },
      "execution_count": 69,
      "outputs": [
        {
          "output_type": "display_data",
          "data": {
            "text/plain": [
              "<Figure size 864x576 with 1 Axes>"
            ],
            "image/png": "[encoded data removed]"
          },
          "metadata": {
            "needs_background": "light"
          }
        }
      ]
    },
    {
      "cell_type": "code",
      "source": [
        "grad_array[-1]"
      ],
      "metadata": {
        "colab": {
          "base_uri": "https://localhost:8080/"
        },
        "id": "VDGtpjtYQ6H1",
        "outputId": "294c4f1c-2875-435d-ed85-f39eca07c994"
      },
      "execution_count": 70,
      "outputs": [
        {
          "output_type": "execute_result",
          "data": {
            "text/plain": [
              "0.27872427706784275"
            ]
          },
          "metadata": {},
          "execution_count": 70
        }
      ]
    },
    {
      "cell_type": "code",
      "source": [],
      "metadata": {
        "id": "JY4Vtqs54r2k"
      },
      "execution_count": 71,
      "outputs": []
    }
  ],
  "metadata": {
    "colab": {
      "provenance": [],
      "include_colab_link": true
    },
    "gpuClass": "standard",
    "kernelspec": {
      "display_name": "Python 3",
      "name": "python3"
    },
    "language_info": {
      "name": "python"
    }
  },
  "nbformat": 4,
  "nbformat_minor": 0
}