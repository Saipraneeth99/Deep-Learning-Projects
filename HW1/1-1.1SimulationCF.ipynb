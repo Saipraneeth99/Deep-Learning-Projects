{
  "cells": [
    {
      "cell_type": "markdown",
      "metadata": {
        "id": "view-in-github",
        "colab_type": "text"
      },
      "source": [
        "<a href=\"https://colab.research.google.com/github/Saipraneeth99/DeepLearning/blob/main/1-1.1SimulationCF.ipynb\" target=\"_parent\"><img src=\"https://colab.research.google.com/assets/colab-badge.svg\" alt=\"Open In Colab\"/></a>"
      ]
    },
    {
      "cell_type": "markdown",
      "source": [
        "Non Linear Functions"
      ],
      "metadata": {
        "id": "lWQ8txCiDA74"
      }
    },
    {
      "cell_type": "code",
      "execution_count": null,
      "metadata": {
        "id": "Qg8jMadHyTpx"
      },
      "outputs": [],
      "source": [
        "import torch\n",
        "import numpy as np\n",
        "import matplotlib.pyplot as plt\n",
        "from torchsummary import summary\n",
        "# Generate training data\n",
        "def function1():\n",
        "  x = np.linspace(-2 * np.pi, 2 * np.pi, 2000)\n",
        "  y = np.sin(5 * np.pi * x) / (5 * np.pi * x)\n",
        "  return x,y\n",
        "\n",
        "def function2():\n",
        "  x = np.linspace(-1 * np.pi, 1 * np.pi, 1000)\n",
        "  y = 1 / (1 + np.exp(-(np.sin(5 * np.pi * x) / (5 * np.pi * x))))\n",
        "  return x,y\n"
      ]
    },
    {
      "cell_type": "markdown",
      "source": [
        "Converting into Pytorch Tensor\n"
      ],
      "metadata": {
        "id": "aVbByNVIDLZv"
      }
    },
    {
      "cell_type": "code",
      "source": [
        "# Convert to PyTorch tensors\n",
        "def convertToTensors(x,y):\n",
        "  x_tensor = torch.from_numpy(x).float().unsqueeze(1)\n",
        "  y_tensor = torch.from_numpy(y).float().unsqueeze(1)\n",
        "  return x_tensor,y_tensor"
      ],
      "metadata": {
        "id": "5fcdMwyrDF6E"
      },
      "execution_count": null,
      "outputs": []
    },
    {
      "cell_type": "markdown",
      "source": [
        "Shallow Neural Network"
      ],
      "metadata": {
        "id": "goIJ_CkMNHTD"
      }
    },
    {
      "cell_type": "code",
      "source": [
        "\n",
        "class ShallowDNN(torch.nn.Module):\n",
        "    def __init__(self):\n",
        "        super(ShallowDNN, self).__init__()\n",
        "        self.fc1 = torch.nn.Linear(1, 100)\n",
        "        self.fc2 = torch.nn.Linear(100, 1)\n",
        "\n",
        "    def forward(self, x):\n",
        "        x = torch.nn.functional.relu(self.fc1(x))\n",
        "        x = self.fc2(x)\n",
        "        return x\n",
        "modelShallow = ShallowDNN()\n",
        "# Number of parameters\n",
        "total_params1 = sum(p.numel() for p in modelShallow.parameters())\n",
        "print(\"Number of parameters in shallow DNN: \", total_params1)\n",
        "\n"
      ],
      "metadata": {
        "colab": {
          "base_uri": "https://localhost:8080/"
        },
        "id": "OFMSYqjaNGbB",
        "outputId": "4c6acaff-24e8-47b2-9afa-eedf5f3b99c9"
      },
      "execution_count": null,
      "outputs": [
        {
          "output_type": "stream",
          "name": "stdout",
          "text": [
            "Number of parameters in shallow DNN:  301\n"
          ]
        }
      ]
    },
    {
      "cell_type": "code",
      "source": [
        "summary(modelShallow,(1,))"
      ],
      "metadata": {
        "colab": {
          "base_uri": "https://localhost:8080/"
        },
        "id": "hE8mz3Cjn5oF",
        "outputId": "298902f6-894a-48ef-a96c-32432d92876c"
      },
      "execution_count": null,
      "outputs": [
        {
          "output_type": "stream",
          "name": "stdout",
          "text": [
            "----------------------------------------------------------------\n",
            "        Layer (type)               Output Shape         Param #\n",
            "================================================================\n",
            "            Linear-1                  [-1, 100]             200\n",
            "            Linear-2                    [-1, 1]             101\n",
            "================================================================\n",
            "Total params: 301\n",
            "Trainable params: 301\n",
            "Non-trainable params: 0\n",
            "----------------------------------------------------------------\n",
            "Input size (MB): 0.00\n",
            "Forward/backward pass size (MB): 0.00\n",
            "Params size (MB): 0.00\n",
            "Estimated Total Size (MB): 0.00\n",
            "----------------------------------------------------------------\n"
          ]
        }
      ]
    },
    {
      "cell_type": "code",
      "source": [
        "\n",
        "# DNN Model2\n",
        "class DNN2(torch.nn.Module):\n",
        "    def __init__(self):\n",
        "        super(DNN2, self).__init__()\n",
        "        self.fc1 = torch.nn.Linear(1, 64)\n",
        "        self.fc2 = torch.nn.Linear(64, 64)\n",
        "        self.fc3 = torch.nn.Linear(64, 64)\n",
        "        self.fc4 = torch.nn.Linear(64, 1)\n",
        "        self.relu = torch.nn.ReLU()\n",
        "        \n",
        "    def forward(self, x):\n",
        "        x = self.relu(self.fc1(x))\n",
        "        x = self.relu(self.fc2(x))\n",
        "        x = self.relu(self.fc3(x))\n",
        "        x = self.fc4(x)\n",
        "        return x\n",
        "\n",
        "model2 = DNN2()\n",
        "\n",
        "total_params2 = sum(p.numel() for p in model2.parameters())\n",
        "print(\"Number of parameters in the above DNN model : \", total_params2)\n",
        "\n"
      ],
      "metadata": {
        "colab": {
          "base_uri": "https://localhost:8080/"
        },
        "id": "L7hHP7AjVKxc",
        "outputId": "7396f746-881e-495a-d1d9-4a78f07e8ac8"
      },
      "execution_count": null,
      "outputs": [
        {
          "output_type": "stream",
          "name": "stdout",
          "text": [
            "Number of parameters in the above DNN model :  8513\n"
          ]
        }
      ]
    },
    {
      "cell_type": "code",
      "source": [
        "summary(model2,(1,))"
      ],
      "metadata": {
        "colab": {
          "base_uri": "https://localhost:8080/"
        },
        "id": "DgrPJGE_oEF8",
        "outputId": "00daf2fb-13a2-4027-8824-0fd46d61ac5c"
      },
      "execution_count": null,
      "outputs": [
        {
          "output_type": "stream",
          "name": "stdout",
          "text": [
            "----------------------------------------------------------------\n",
            "        Layer (type)               Output Shape         Param #\n",
            "================================================================\n",
            "            Linear-1                   [-1, 64]             128\n",
            "              ReLU-2                   [-1, 64]               0\n",
            "            Linear-3                   [-1, 64]           4,160\n",
            "              ReLU-4                   [-1, 64]               0\n",
            "            Linear-5                   [-1, 64]           4,160\n",
            "              ReLU-6                   [-1, 64]               0\n",
            "            Linear-7                    [-1, 1]              65\n",
            "================================================================\n",
            "Total params: 8,513\n",
            "Trainable params: 8,513\n",
            "Non-trainable params: 0\n",
            "----------------------------------------------------------------\n",
            "Input size (MB): 0.00\n",
            "Forward/backward pass size (MB): 0.00\n",
            "Params size (MB): 0.03\n",
            "Estimated Total Size (MB): 0.04\n",
            "----------------------------------------------------------------\n"
          ]
        }
      ]
    },
    {
      "cell_type": "code",
      "source": [
        "# DNN Model3\n",
        "class DNN3(torch.nn.Module):\n",
        "    def __init__(self):\n",
        "        super(DNN3, self).__init__()\n",
        "        self.fc1 = torch.nn.Linear(1, 32)\n",
        "        self.fc2 = torch.nn.Linear(32, 32)\n",
        "        self.fc3 = torch.nn.Linear(32, 32)\n",
        "        self.fc4 = torch.nn.Linear(32, 32)\n",
        "        self.fc5 = torch.nn.Linear(32, 32)\n",
        "        self.fc6 = torch.nn.Linear(32, 32)\n",
        "        self.fc7 = torch.nn.Linear(32, 64)\n",
        "        self.fc8 = torch.nn.Linear(64, 16)\n",
        "        self.fc9 = torch.nn.Linear(16, 1)\n",
        "        self.relu = torch.nn.ReLU()\n",
        "\n",
        "    def forward(self, x):\n",
        "        x = self.relu(self.fc1(x))\n",
        "        x = self.relu(self.fc2(x))\n",
        "        x = self.relu(self.fc3(x))\n",
        "        x = self.relu(self.fc4(x))\n",
        "        x = self.relu(self.fc5(x))\n",
        "        x = self.relu(self.fc6(x))\n",
        "        x = self.relu(self.fc7(x))\n",
        "        x = self.relu(self.fc8(x))\n",
        "        x = self.fc9(x)\n",
        "        return x\n",
        "\n",
        "\n",
        "model3 = DNN3()\n",
        "total_params3 = sum(p.numel() for p in model3.parameters())\n",
        "print(\"Number of parameters in the above DNN model : \", total_params3)\n",
        "\n"
      ],
      "metadata": {
        "colab": {
          "base_uri": "https://localhost:8080/"
        },
        "id": "cZNX5g6YVO2A",
        "outputId": "772a1f6a-8072-44e9-c992-14d2cae38331"
      },
      "execution_count": null,
      "outputs": [
        {
          "output_type": "stream",
          "name": "stdout",
          "text": [
            "Number of parameters in the above DNN model :  8513\n"
          ]
        }
      ]
    },
    {
      "cell_type": "code",
      "source": [
        "summary(model3,(1,))"
      ],
      "metadata": {
        "colab": {
          "base_uri": "https://localhost:8080/"
        },
        "id": "ZKOeLpG0oHPI",
        "outputId": "a9cfd7b8-0b41-415c-9927-c9aaf34c8b53"
      },
      "execution_count": null,
      "outputs": [
        {
          "output_type": "stream",
          "name": "stdout",
          "text": [
            "----------------------------------------------------------------\n",
            "        Layer (type)               Output Shape         Param #\n",
            "================================================================\n",
            "            Linear-1                   [-1, 32]              64\n",
            "              ReLU-2                   [-1, 32]               0\n",
            "            Linear-3                   [-1, 32]           1,056\n",
            "              ReLU-4                   [-1, 32]               0\n",
            "            Linear-5                   [-1, 32]           1,056\n",
            "              ReLU-6                   [-1, 32]               0\n",
            "            Linear-7                   [-1, 32]           1,056\n",
            "              ReLU-8                   [-1, 32]               0\n",
            "            Linear-9                   [-1, 32]           1,056\n",
            "             ReLU-10                   [-1, 32]               0\n",
            "           Linear-11                   [-1, 32]           1,056\n",
            "             ReLU-12                   [-1, 32]               0\n",
            "           Linear-13                   [-1, 64]           2,112\n",
            "             ReLU-14                   [-1, 64]               0\n",
            "           Linear-15                   [-1, 16]           1,040\n",
            "             ReLU-16                   [-1, 16]               0\n",
            "           Linear-17                    [-1, 1]              17\n",
            "================================================================\n",
            "Total params: 8,513\n",
            "Trainable params: 8,513\n",
            "Non-trainable params: 0\n",
            "----------------------------------------------------------------\n",
            "Input size (MB): 0.00\n",
            "Forward/backward pass size (MB): 0.00\n",
            "Params size (MB): 0.03\n",
            "Estimated Total Size (MB): 0.04\n",
            "----------------------------------------------------------------\n"
          ]
        }
      ]
    },
    {
      "cell_type": "markdown",
      "source": [
        "Loss Function, Training the model"
      ],
      "metadata": {
        "id": "iGTDnyhBObbk"
      }
    },
    {
      "cell_type": "code",
      "source": [
        "x1,y1 = function1()\n",
        "x_tensor1,y_tensor1 = convertToTensors(x1,y1)\n",
        "\n",
        "# Define the loss and optimizer\n",
        "criterion = torch.nn.MSELoss()\n",
        "optimizer = torch.optim.Adam(modelShallow.parameters(), lr=0.001)\n",
        "\n",
        "# Train the model\n",
        "losses1 = []\n",
        "for epoch in range(10000):\n",
        "    # Forward pass\n",
        "    y_pred1 = modelShallow(x_tensor1)\n",
        "    loss = criterion(y_pred1, y_tensor1)\n",
        "    \n",
        "    # Backward pass and optimization\n",
        "    optimizer.zero_grad()\n",
        "    loss.backward()\n",
        "    optimizer.step()\n",
        "    \n",
        "    # Save the loss for plotting\n",
        "    losses1.append(loss.item())\n",
        "    \n",
        "    # Print progress\n",
        "    if (epoch + 1) % 1000 == 0:\n",
        "        print(loss.item())\n",
        "        print('Epoch [{}/{}], Loss: {:.4f}'.format(epoch + 1, 10000, loss.item()))"
      ],
      "metadata": {
        "colab": {
          "base_uri": "https://localhost:8080/"
        },
        "id": "Yk0sHHC8OaS_",
        "outputId": "92e7bc68-fe2e-4709-cb71-d967ca94e51e"
      },
      "execution_count": null,
      "outputs": [
        {
          "output_type": "stream",
          "name": "stdout",
          "text": [
            "0.011679290793836117\n",
            "Epoch [1000/10000], Loss: 0.0117\n",
            "0.01038038358092308\n",
            "Epoch [2000/10000], Loss: 0.0104\n",
            "0.008843207731842995\n",
            "Epoch [3000/10000], Loss: 0.0088\n",
            "0.0067006321623921394\n",
            "Epoch [4000/10000], Loss: 0.0067\n",
            "0.005387874320149422\n",
            "Epoch [5000/10000], Loss: 0.0054\n",
            "0.004528124816715717\n",
            "Epoch [6000/10000], Loss: 0.0045\n",
            "0.0038362026680260897\n",
            "Epoch [7000/10000], Loss: 0.0038\n",
            "0.0033153563272207975\n",
            "Epoch [8000/10000], Loss: 0.0033\n",
            "0.002824255498126149\n",
            "Epoch [9000/10000], Loss: 0.0028\n",
            "0.0025063417851924896\n",
            "Epoch [10000/10000], Loss: 0.0025\n"
          ]
        }
      ]
    },
    {
      "cell_type": "code",
      "source": [],
      "metadata": {
        "id": "7SqNhuEADpiI"
      },
      "execution_count": null,
      "outputs": []
    },
    {
      "cell_type": "markdown",
      "source": [
        "Loss Function and Training the model\n",
        "\n"
      ],
      "metadata": {
        "id": "7KrUQ8yGPeqZ"
      }
    },
    {
      "cell_type": "code",
      "source": [
        "x2,y2 = function1()\n",
        "x_tensor2,y_tensor2 = convertToTensors(x2,y2)\n",
        "\n",
        "# Define the loss and optimizer\n",
        "criterion = torch.nn.MSELoss()\n",
        "optimizer = torch.optim.Adam(model2.parameters(), lr=0.001)\n",
        "\n",
        "# Train the model\n",
        "losses2 = []\n",
        "for epoch in range(10000):\n",
        "    # Forward pass\n",
        "    y_pred2 = model2(x_tensor2)\n",
        "    loss = criterion(y_pred2, y_tensor2)\n",
        "    \n",
        "    # Backward pass and optimization\n",
        "    optimizer.zero_grad()\n",
        "    loss.backward()\n",
        "    optimizer.step()\n",
        "    \n",
        "    # Save the loss for plotting\n",
        "    losses2.append(loss.item())\n",
        "    \n",
        "    # Print progress\n",
        "    if (epoch + 1) % 1000 == 0:\n",
        "        print(loss.item())\n",
        "        print('Epoch [{}/{}], Loss: {:.4f}'.format(epoch + 1, 10000, loss.item()))"
      ],
      "metadata": {
        "colab": {
          "base_uri": "https://localhost:8080/"
        },
        "id": "i_GjVUBtPjdb",
        "outputId": "7c3c0b1f-9d31-467e-d9ea-70e536e38e7b"
      },
      "execution_count": null,
      "outputs": [
        {
          "output_type": "stream",
          "name": "stdout",
          "text": [
            "0.0006743033300153911\n",
            "Epoch [1000/10000], Loss: 0.0007\n",
            "0.0004184327553957701\n",
            "Epoch [2000/10000], Loss: 0.0004\n",
            "0.00026064523262903094\n",
            "Epoch [3000/10000], Loss: 0.0003\n",
            "0.0002631426614243537\n",
            "Epoch [4000/10000], Loss: 0.0003\n",
            "0.00015298005018848926\n",
            "Epoch [5000/10000], Loss: 0.0002\n",
            "0.00014412275049835443\n",
            "Epoch [6000/10000], Loss: 0.0001\n",
            "0.0001322680473094806\n",
            "Epoch [7000/10000], Loss: 0.0001\n",
            "0.00011740782065317035\n",
            "Epoch [8000/10000], Loss: 0.0001\n",
            "0.00011270595859969035\n",
            "Epoch [9000/10000], Loss: 0.0001\n",
            "9.257167403120548e-05\n",
            "Epoch [10000/10000], Loss: 0.0001\n"
          ]
        }
      ]
    },
    {
      "cell_type": "code",
      "source": [
        "\n",
        "# model1.to('cuda')\n",
        "# summary(model1,(1,))"
      ],
      "metadata": {
        "id": "U-vx6iMtFAqw"
      },
      "execution_count": null,
      "outputs": []
    },
    {
      "cell_type": "markdown",
      "source": [],
      "metadata": {
        "id": "VJ_uJdTxPdeh"
      }
    },
    {
      "cell_type": "code",
      "source": [],
      "metadata": {
        "id": "IpMrPVK3EB0p"
      },
      "execution_count": null,
      "outputs": []
    },
    {
      "cell_type": "code",
      "source": [
        "x3,y3 = function1()\n",
        "x_tensor3,y_tensor3 = convertToTensors(x3,y3)\n",
        "\n",
        "# Define the loss and optimizer\n",
        "criterion = torch.nn.MSELoss()\n",
        "optimizer = torch.optim.Adam(model3.parameters(), lr=0.001)\n",
        "\n",
        "# Train the model\n",
        "losses3 = []\n",
        "for epoch in range(10000):\n",
        "    # Forward pass\n",
        "    y_pred3 = model3(x_tensor3)\n",
        "    loss = criterion(y_pred3, y_tensor3)\n",
        "    \n",
        "    # Backward pass and optimization\n",
        "    optimizer.zero_grad()\n",
        "    loss.backward()\n",
        "    optimizer.step()\n",
        "    \n",
        "    # Save the loss for plotting\n",
        "    losses3.append(loss.item())\n",
        "    \n",
        "    # Print progress\n",
        "    if (epoch + 1) % 1000 == 0:\n",
        "        print(loss.item())\n",
        "        print('Epoch [{}/{}], Loss: {:.4f}'.format(epoch + 1, 10000, loss.item()))"
      ],
      "metadata": {
        "colab": {
          "base_uri": "https://localhost:8080/"
        },
        "id": "dYnGPQFtP844",
        "outputId": "1e21b604-e476-432f-a36f-183621a890d9"
      },
      "execution_count": null,
      "outputs": [
        {
          "output_type": "stream",
          "name": "stdout",
          "text": [
            "0.00037656581844203174\n",
            "Epoch [1000/10000], Loss: 0.0004\n",
            "0.0003315408539492637\n",
            "Epoch [2000/10000], Loss: 0.0003\n",
            "0.0002790477592498064\n",
            "Epoch [3000/10000], Loss: 0.0003\n",
            "0.0002604061446618289\n",
            "Epoch [4000/10000], Loss: 0.0003\n",
            "0.00022230064496397972\n",
            "Epoch [5000/10000], Loss: 0.0002\n",
            "0.00019397238793317229\n",
            "Epoch [6000/10000], Loss: 0.0002\n",
            "0.0001805125648388639\n",
            "Epoch [7000/10000], Loss: 0.0002\n",
            "0.00016427249647676945\n",
            "Epoch [8000/10000], Loss: 0.0002\n",
            "0.0001545856794109568\n",
            "Epoch [9000/10000], Loss: 0.0002\n",
            "0.0001556449569761753\n",
            "Epoch [10000/10000], Loss: 0.0002\n"
          ]
        }
      ]
    },
    {
      "cell_type": "markdown",
      "source": [],
      "metadata": {
        "id": "TZ4HG6LyC-o-"
      }
    },
    {
      "cell_type": "code",
      "source": [
        "\n",
        "# model.to('cuda')\n",
        "# summary(model,(1,))"
      ],
      "metadata": {
        "id": "ZMmfIGNq_7jB"
      },
      "execution_count": null,
      "outputs": []
    },
    {
      "cell_type": "code",
      "source": [],
      "metadata": {
        "id": "qOOtkQiIBugY"
      },
      "execution_count": null,
      "outputs": []
    },
    {
      "cell_type": "code",
      "source": [],
      "metadata": {
        "id": "WbVNIFZeAq1E"
      },
      "execution_count": null,
      "outputs": []
    },
    {
      "cell_type": "code",
      "execution_count": null,
      "metadata": {
        "id": "eTGU9uJ_y4pr",
        "colab": {
          "base_uri": "https://localhost:8080/",
          "height": 512
        },
        "outputId": "06d035aa-8561-4a6c-b040-e6976f663f2c"
      },
      "outputs": [
        {
          "output_type": "display_data",
          "data": {
            "text/plain": [
              "<Figure size 864x576 with 1 Axes>"
            ],
            "image/png": "[encoded data removed]"
          },
          "metadata": {
            "needs_background": "light"
          }
        }
      ],
      "source": [
        "# Plot the loss over time\n",
        "fig, ax = plt.subplots(figsize=(12, 8))\n",
        "# ax.plot(losses)\n",
        "ax.set_title('Model Loss')\n",
        "ax.plot(losses1, 'g', label='Losses1')\n",
        "ax.plot(losses2, 'r', label='Losses2')\n",
        "ax.plot(losses3, 'b', label='Losses3')\n",
        "ax.legend()\n",
        "\n",
        "ax.set_xlabel('Epoch')\n",
        "ax.set_ylabel('Loss')\n",
        "plt.show()"
      ]
    },
    {
      "cell_type": "code",
      "source": [
        "# Make predictions on the training data\n",
        "# model1.to('cpu')\n",
        "y_pred1 = modelShallow(x_tensor1).detach().numpy()\n",
        "y_pred2 = model2(x_tensor2).detach().numpy()\n",
        "y_pred3 = model3(x_tensor3).detach().numpy()\n",
        "# Plot the training data and predictions\n",
        "fig, ax = plt.subplots(figsize=(12, 8))\n",
        "ax.plot(x1, y1, 'g', label='Ground Truth')\n",
        "ax.plot(x1, y_pred1, 'r', label='Shallow DNN Prediction')\n",
        "ax.plot(x1, y_pred2, 'y', label='DNN1 Prediction')\n",
        "ax.plot(x1, y_pred3, 'b', label='DNN2 Prediction')\n",
        "ax.legend()\n",
        "ax.set_title('Ground Truth vs Prediction')\n",
        "ax.set_xlabel('x')\n",
        "ax.set_ylabel('y')\n",
        "plt.show()\n"
      ],
      "metadata": {
        "colab": {
          "base_uri": "https://localhost:8080/",
          "height": 512
        },
        "id": "uJKX97rU6Qaw",
        "outputId": "bd3e7121-9f4b-4739-cc46-ac9ad93b6fd9"
      },
      "execution_count": null,
      "outputs": [
        {
          "output_type": "display_data",
          "data": {
            "text/plain": [
              "<Figure size 864x576 with 1 Axes>"
            ],
            "image/png": "[encoded data removed]"
          },
          "metadata": {
            "needs_background": "light"
          }
        }
      ]
    },
    {
      "cell_type": "code",
      "source": [],
      "metadata": {
        "id": "3d5e8LVK9CfL"
      },
      "execution_count": null,
      "outputs": []
    },
    {
      "cell_type": "code",
      "source": [],
      "metadata": {
        "id": "H9E_vzD0K73L"
      },
      "execution_count": null,
      "outputs": []
    },
    {
      "cell_type": "markdown",
      "source": [
        "For Function 2\n"
      ],
      "metadata": {
        "id": "9KTgnZKqXnc_"
      }
    },
    {
      "cell_type": "code",
      "source": [
        "x1,y1 = function2()\n",
        "x_tensor1,y_tensor1 = convertToTensors(x1,y1)\n",
        "\n",
        "# Define the loss and optimizer\n",
        "criterion = torch.nn.MSELoss()\n",
        "optimizer = torch.optim.Adam(modelShallow.parameters(), lr=0.001)\n",
        "\n",
        "# Train the model\n",
        "losses1 = []\n",
        "for epoch in range(10000):\n",
        "    # Forward pass\n",
        "    y_pred1 = modelShallow(x_tensor1)\n",
        "    loss = criterion(y_pred1, y_tensor1)\n",
        "    \n",
        "    # Backward pass and optimization\n",
        "    optimizer.zero_grad()\n",
        "    loss.backward()\n",
        "    optimizer.step()\n",
        "    \n",
        "    # Save the loss for plotting\n",
        "    losses1.append(loss.item())\n",
        "    \n",
        "    # Print progress\n",
        "    if (epoch + 1) % 1000 == 0:\n",
        "        print(loss.item())\n",
        "        print('Epoch [{}/{}], Loss: {:.4f}'.format(epoch + 1, 10000, loss.item()))"
      ],
      "metadata": {
        "colab": {
          "base_uri": "https://localhost:8080/"
        },
        "id": "tIL1x2QhXpfu",
        "outputId": "e2ed60b8-26e9-45d3-d499-1840557b1deb"
      },
      "execution_count": null,
      "outputs": [
        {
          "output_type": "stream",
          "name": "stdout",
          "text": [
            "0.00018330459715798497\n",
            "Epoch [1000/10000], Loss: 0.0002\n",
            "0.0001281709410250187\n",
            "Epoch [2000/10000], Loss: 0.0001\n",
            "0.00010599918459774926\n",
            "Epoch [3000/10000], Loss: 0.0001\n",
            "9.003750892588869e-05\n",
            "Epoch [4000/10000], Loss: 0.0001\n",
            "7.514525350416079e-05\n",
            "Epoch [5000/10000], Loss: 0.0001\n",
            "8.502410491928458e-05\n",
            "Epoch [6000/10000], Loss: 0.0001\n",
            "8.517911919625476e-05\n",
            "Epoch [7000/10000], Loss: 0.0001\n",
            "6.032085730112158e-05\n",
            "Epoch [8000/10000], Loss: 0.0001\n",
            "5.448723095469177e-05\n",
            "Epoch [9000/10000], Loss: 0.0001\n",
            "7.101179653545842e-05\n",
            "Epoch [10000/10000], Loss: 0.0001\n"
          ]
        }
      ]
    },
    {
      "cell_type": "code",
      "source": [
        "x2,y2 = function2()\n",
        "x_tensor2,y_tensor2 = convertToTensors(x2,y2)\n",
        "\n",
        "# Define the loss and optimizer\n",
        "criterion = torch.nn.MSELoss()\n",
        "optimizer = torch.optim.Adam(model2.parameters(), lr=0.001)\n",
        "\n",
        "# Train the model\n",
        "losses2 = []\n",
        "for epoch in range(10000):\n",
        "    # Forward pass\n",
        "    y_pred2 = model2(x_tensor2)\n",
        "    loss = criterion(y_pred2, y_tensor2)\n",
        "    \n",
        "    # Backward pass and optimization\n",
        "    optimizer.zero_grad()\n",
        "    loss.backward()\n",
        "    optimizer.step()\n",
        "    \n",
        "    # Save the loss for plotting\n",
        "    losses2.append(loss.item())\n",
        "    \n",
        "    # Print progress\n",
        "    if (epoch + 1) % 1000 == 0:\n",
        "        print(loss.item())\n",
        "        print('Epoch [{}/{}], Loss: {:.4f}'.format(epoch + 1, 10000, loss.item()))"
      ],
      "metadata": {
        "colab": {
          "base_uri": "https://localhost:8080/"
        },
        "id": "ll_n9u6MYqv8",
        "outputId": "db5f56c6-ca8e-4c42-9646-471101bfd98c"
      },
      "execution_count": null,
      "outputs": [
        {
          "output_type": "stream",
          "name": "stdout",
          "text": [
            "2.3423168386216275e-05\n",
            "Epoch [1000/10000], Loss: 0.0000\n",
            "6.384161679306999e-06\n",
            "Epoch [2000/10000], Loss: 0.0000\n",
            "5.615469035546994e-06\n",
            "Epoch [3000/10000], Loss: 0.0000\n",
            "5.209017217566725e-06\n",
            "Epoch [4000/10000], Loss: 0.0000\n",
            "4.671468104788801e-06\n",
            "Epoch [5000/10000], Loss: 0.0000\n",
            "4.3904119593207724e-06\n",
            "Epoch [6000/10000], Loss: 0.0000\n",
            "4.177952632744564e-06\n",
            "Epoch [7000/10000], Loss: 0.0000\n",
            "3.918039965356002e-06\n",
            "Epoch [8000/10000], Loss: 0.0000\n",
            "3.6586072837963e-06\n",
            "Epoch [9000/10000], Loss: 0.0000\n",
            "3.7227794109639945e-06\n",
            "Epoch [10000/10000], Loss: 0.0000\n"
          ]
        }
      ]
    },
    {
      "cell_type": "code",
      "source": [
        "x3,y3 = function2()\n",
        "x_tensor3,y_tensor3 = convertToTensors(x3,y3)\n",
        "\n",
        "# Define the loss and optimizer\n",
        "criterion = torch.nn.MSELoss()\n",
        "optimizer = torch.optim.Adam(model3.parameters(), lr=0.001)\n",
        "\n",
        "# Train the model\n",
        "losses3 = []\n",
        "for epoch in range(10000):\n",
        "    # Forward pass\n",
        "    y_pred3 = model3(x_tensor3)\n",
        "    loss = criterion(y_pred3, y_tensor3)\n",
        "    \n",
        "    # Backward pass and optimization\n",
        "    optimizer.zero_grad()\n",
        "    loss.backward()\n",
        "    optimizer.step()\n",
        "    \n",
        "    # Save the loss for plotting\n",
        "    losses3.append(loss.item())\n",
        "    \n",
        "    # Print progress\n",
        "    if (epoch + 1) % 1000 == 0:\n",
        "        print(loss.item())\n",
        "        print('Epoch [{}/{}], Loss: {:.4f}'.format(epoch + 1, 10000, loss.item()))"
      ],
      "metadata": {
        "colab": {
          "base_uri": "https://localhost:8080/"
        },
        "id": "2xDoACHcY0_-",
        "outputId": "8568790a-5215-48bf-9789-c1c510762058"
      },
      "execution_count": null,
      "outputs": [
        {
          "output_type": "stream",
          "name": "stdout",
          "text": [
            "1.865447666205e-05\n",
            "Epoch [1000/10000], Loss: 0.0000\n",
            "1.4167630070005544e-05\n",
            "Epoch [2000/10000], Loss: 0.0000\n",
            "1.514330961072119e-05\n",
            "Epoch [3000/10000], Loss: 0.0000\n",
            "1.1956864000239875e-05\n",
            "Epoch [4000/10000], Loss: 0.0000\n",
            "6.729493179591373e-05\n",
            "Epoch [5000/10000], Loss: 0.0001\n",
            "5.868126663699513e-06\n",
            "Epoch [6000/10000], Loss: 0.0000\n",
            "5.897718892811099e-06\n",
            "Epoch [7000/10000], Loss: 0.0000\n",
            "2.3436736228177324e-05\n",
            "Epoch [8000/10000], Loss: 0.0000\n",
            "3.0004912332515232e-06\n",
            "Epoch [9000/10000], Loss: 0.0000\n",
            "1.552106550661847e-05\n",
            "Epoch [10000/10000], Loss: 0.0000\n"
          ]
        }
      ]
    },
    {
      "cell_type": "code",
      "source": [
        "# Plot the loss over time\n",
        "fig, ax = plt.subplots(figsize=(12, 8))\n",
        "# ax.plot(losses)\n",
        "ax.set_title('Model Loss')\n",
        "ax.plot(losses1, 'g', label='Losses1')\n",
        "ax.plot(losses2, 'r', label='Losses2')\n",
        "ax.plot(losses3, 'b', label='Losses3')\n",
        "ax.legend()\n",
        "\n",
        "ax.set_xlabel('Epoch')\n",
        "ax.set_ylabel('Loss')\n",
        "plt.show()"
      ],
      "metadata": {
        "colab": {
          "base_uri": "https://localhost:8080/",
          "height": 512
        },
        "id": "mzGAf_QbY8FH",
        "outputId": "b922474f-24e8-41dd-9788-6aac8162ee15"
      },
      "execution_count": null,
      "outputs": [
        {
          "output_type": "display_data",
          "data": {
            "text/plain": [
              "<Figure size 864x576 with 1 Axes>"
            ],
            "image/png": "[encoded data removed]"
          },
          "metadata": {
            "needs_background": "light"
          }
        }
      ]
    },
    {
      "cell_type": "code",
      "source": [
        "# Make predictions on the training data\n",
        "# model1.to('cpu')\n",
        "y_pred1 = modelShallow(x_tensor1).detach().numpy()\n",
        "y_pred2 = model2(x_tensor2).detach().numpy()\n",
        "y_pred3 = model3(x_tensor3).detach().numpy()\n",
        "# Plot the training data and predictions\n",
        "fig, ax = plt.subplots(figsize=(12, 8))\n",
        "ax.plot(x1, y1, 'g', label='Ground Truth')\n",
        "ax.plot(x1, y_pred1, 'r', label='Shallow DNN Prediction')\n",
        "ax.plot(x1, y_pred2, 'y', label='DNN1 Prediction')\n",
        "ax.plot(x1, y_pred3, 'b', label='DNN2 Prediction')\n",
        "ax.legend()\n",
        "ax.set_title('Ground Truth vs Prediction')\n",
        "ax.set_xlabel('x')\n",
        "ax.set_ylabel('y')\n",
        "plt.show()\n"
      ],
      "metadata": {
        "colab": {
          "base_uri": "https://localhost:8080/",
          "height": 512
        },
        "id": "1rNlOu_4ZPFF",
        "outputId": "a647a3d0-463f-482b-f71b-4c509201821f"
      },
      "execution_count": null,
      "outputs": [
        {
          "output_type": "display_data",
          "data": {
            "text/plain": [
              "<Figure size 864x576 with 1 Axes>"
            ],
            "image/png": "[encoded data removed]"
          },
          "metadata": {
            "needs_background": "light"
          }
        }
      ]
    },
    {
      "cell_type": "code",
      "source": [],
      "metadata": {
        "id": "8HRi-NmoZYF1"
      },
      "execution_count": null,
      "outputs": []
    }
  ],
  "metadata": {
    "accelerator": "TPU",
    "colab": {
      "provenance": [],
      "include_colab_link": true
    },
    "gpuClass": "standard",
    "kernelspec": {
      "display_name": "Python 3",
      "name": "python3"
    },
    "language_info": {
      "name": "python"
    }
  },
  "nbformat": 4,
  "nbformat_minor": 0
}
