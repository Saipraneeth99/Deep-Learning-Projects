{
  "cells": [
    {
      "cell_type": "markdown",
      "metadata": {
        "id": "view-in-github",
        "colab_type": "text"
      },
      "source": [
        "<a href=\"https://colab.research.google.com/github/Saipraneeth99/DeepLearning/blob/main/task3_3_3GenVflat2.ipynb\" target=\"_parent\"><img src=\"https://colab.research.google.com/assets/colab-badge.svg\" alt=\"Open In Colab\"/></a>"
      ]
    },
    {
      "cell_type": "code",
      "execution_count": 7,
      "metadata": {
        "id": "myg71cnWI9X3"
      },
      "outputs": [],
      "source": [
        "import torch\n",
        "import torchvision\n",
        "import torchvision.transforms as transforms\n",
        "from torchsummary import summary\n",
        "import numpy as np\n",
        "\n",
        "transform = transforms.Compose([transforms.ToTensor(), transforms.Normalize((0.1307,), (0.3081))])\n",
        "\n",
        "train_dataset = torchvision.datasets.MNIST('mnist_data/', train=True, download=True, transform=transform)\n",
        "\n",
        "# train_labels = train_dataset.targets.numpy()\n",
        "\n",
        "\n",
        "test_dataset = torchvision.datasets.MNIST('mnist_data/', train=False, download=True, transform=transform)\n",
        "\n",
        "\n"
      ]
    },
    {
      "cell_type": "code",
      "execution_count": 12,
      "metadata": {
        "id": "q7Pd-2IzMZ8M"
      },
      "outputs": [],
      "source": [
        "# Define the DNN model\n",
        "import torch.nn as nn\n",
        "import torch.nn.functional as F\n",
        "from torchsummary import summary\n",
        "import torch.optim as optim\n",
        "import matplotlib.pyplot as plt\n",
        "\n",
        "class DNN(nn.Module):\n",
        "    def __init__(self):\n",
        "        super(DNN, self).__init__()\n",
        "        self.fc1 = nn.Linear(28 * 28, 32)\n",
        "        self.fc2 = nn.Linear(32, 64)\n",
        "        self.fc3 = nn.Linear(64, 10)\n",
        "\n",
        "    def forward(self, x):\n",
        "        x = x.view(-1, 28 * 28)\n",
        "        x = F.relu(self.fc1(x))\n",
        "        x = F.relu(self.fc2(x))\n",
        "        x = self.fc3(x)\n",
        "        return F.log_softmax(x, dim=1)\n",
        "\n",
        "# Initialize the model, loss function, and optimizer\n"
      ]
    },
    {
      "cell_type": "code",
      "execution_count": 13,
      "metadata": {
        "id": "lM_srb85LnLh"
      },
      "outputs": [],
      "source": [
        "# trainloader = torch.utils.data.DataLoader(train_dataset, batch_size=8, shuffle=True)\n",
        "# testloader = torch.utils.data.DataLoader(test_dataset, batch_size=1000, shuffle=False)"
      ]
    },
    {
      "cell_type": "code",
      "execution_count": 27,
      "metadata": {
        "id": "EJCnkD7VeKrC"
      },
      "outputs": [],
      "source": []
    },
    {
      "cell_type": "code",
      "source": [],
      "metadata": {
        "id": "nHccUPKZWWn6"
      },
      "execution_count": 24,
      "outputs": []
    },
    {
      "cell_type": "code",
      "execution_count": 17,
      "metadata": {
        "colab": {
          "base_uri": "https://localhost:8080/"
        },
        "id": "Vlf58u1QVajz",
        "outputId": "9ff0ccfb-00bb-47b2-e4ec-18f92e8f9842"
      },
      "outputs": [
        {
          "output_type": "stream",
          "name": "stdout",
          "text": [
            "Model 0 Training Done\n",
            "Model 0 Training Done\n",
            "Model 0 Training Done\n",
            "Model 0 Training Done\n",
            "Model 0 Training Done\n",
            "Model 0 Training Done\n",
            "Model 1 Training Done\n",
            "Model 1 Training Done\n",
            "Model 1 Training Done\n",
            "Model 1 Training Done\n",
            "Model 1 Training Done\n",
            "Model 1 Training Done\n",
            "Model 2 Training Done\n",
            "Model 2 Training Done\n",
            "Model 2 Training Done\n",
            "Model 2 Training Done\n",
            "Model 2 Training Done\n",
            "Model 2 Training Done\n",
            "Model 3 Training Done\n",
            "Model 3 Training Done\n",
            "Model 3 Training Done\n",
            "Model 3 Training Done\n",
            "Model 3 Training Done\n",
            "Model 3 Training Done\n",
            "Model 4 Training Done\n",
            "Model 4 Training Done\n",
            "Model 4 Training Done\n",
            "Model 4 Training Done\n",
            "Model 4 Training Done\n",
            "Model 4 Training Done\n"
          ]
        }
      ],
      "source": [
        "# i = 1\n",
        "Main_Train_acc = []\n",
        "Main_Test_acc = []\n",
        "Main_Train_loss = []\n",
        "Main_Test_loss = []\n",
        "Main_Sensitivities = []\n",
        "model = DNN()\n",
        "criterion = nn.CrossEntropyLoss()\n",
        "optimizer = optim.SGD(model.parameters(), lr=0.001, momentum=0.5)\n",
        "for i in range(5):\n",
        "  trainloader = torch.utils.data.DataLoader(train_dataset, batch_size=32*(i+1), shuffle=True)\n",
        "  testloader = torch.utils.data.DataLoader(test_dataset, batch_size=32*(i+1), shuffle=False)  \n",
        "  train_losses = []\n",
        "  train_accuracies = []\n",
        "  test_losses = []\n",
        "  test_accuracy = []\n",
        "  sensitivities = []\n",
        "  for epoch in range(5):\n",
        "    total = 0\n",
        "    correct = 0\n",
        "    total_loss = 0\n",
        "    for batch_idx, (images, labels) in enumerate(trainloader):\n",
        "      optimizer.zero_grad()\n",
        "      outputs = model(images)\n",
        "      loss = criterion(outputs, labels)\n",
        "      loss.backward()\n",
        "      optimizer.step()\n",
        "      _, predicted = torch.max(outputs.data, 1)\n",
        "      total += labels.size(0)\n",
        "      correct += (predicted == labels).sum().item()\n",
        "      total_loss += loss.item() \n",
        "    train_losses.append(total_loss/total)\n",
        "    train_accuracies.append(100* correct/total)\n",
        "    \n",
        "    correct = 0\n",
        "    total = 0\n",
        "    with torch.no_grad():\n",
        "      losses= []\n",
        "      total_loss = 0\n",
        "      for data in testloader:\n",
        "        images, labels = data\n",
        "        outputs = model(images)\n",
        "        loss = criterion(outputs, labels)\n",
        "        _, predicted = torch.max(outputs.data, 1)\n",
        "        total += labels.size(0)\n",
        "        correct += (predicted == labels).sum().item()\n",
        "        total_loss += loss.item()\n",
        "      test_accuracy.append(100 *correct/total)\n",
        "      test_losses.append(total_loss/total)\n",
        "      print(\"Model {} Training Done\".format(i))\n",
        "      gradAll = 0.0\n",
        "      fNormAll = 0\n",
        "      counter = 0\n",
        "      for p in model.parameters():\n",
        "        grad = 0.0\n",
        "        if p.grad is not None:\n",
        "          grad = p.grad\n",
        "          fNorm = torch.linalg.norm(grad).numpy()\n",
        "          fNormAll += fNorm\n",
        "          counter += 1\n",
        "      sensitivities.append((fNormAll / counter))\n",
        "  Main_Train_acc.append(np.sum(train_accuracies)/len(train_accuracies))\n",
        "  Main_Test_acc.append(np.sum(test_accuracy)/len(test_accuracy))\n",
        "  Main_Train_loss.append(np.sum(train_losses)/len(train_losses))\n",
        "  Main_Test_loss.append(np.sum(test_losses)/len(test_losses))\n",
        "  Main_Sensitivities.append(np.sum(sensitivities)/len(sensitivities))\n",
        "  print(\"Model {} Training Done\".format(i))\n"
      ]
    },
    {
      "cell_type": "code",
      "source": [
        "test_losses = [0.3980478048324585, 0.5,0.6,0.7,0.8]\n",
        "np.sum(test_losses)/len(test_losses)"
      ],
      "metadata": {
        "colab": {
          "base_uri": "https://localhost:8080/"
        },
        "id": "gWcqcUhpyEuE",
        "outputId": "dcd0be3b-c89a-491d-9130-e06fdfcc4e18"
      },
      "execution_count": 6,
      "outputs": [
        {
          "output_type": "execute_result",
          "data": {
            "text/plain": [
              "0.5996095609664917"
            ]
          },
          "metadata": {},
          "execution_count": 6
        }
      ]
    },
    {
      "cell_type": "code",
      "execution_count": 25,
      "metadata": {
        "colab": {
          "base_uri": "https://localhost:8080/",
          "height": 513
        },
        "id": "XVtigKo1cdrW",
        "outputId": "d6089b09-59bb-491a-ea8f-e0be53b80c6d"
      },
      "outputs": [
        {
          "output_type": "display_data",
          "data": {
            "text/plain": [
              "<Figure size 864x576 with 1 Axes>"
            ],
            "image/png": "[encoded data removed]"
          },
          "metadata": {
            "needs_background": "light"
          }
        }
      ],
      "source": [
        "# Plot the loss over time\n",
        "fig, ax = plt.subplots(figsize=(12, 8))\n",
        "# ax.plot(losses)\n",
        "ax.set_title('Model Loss Comparision with Sensitivity')\n",
        "ax.plot(Main_Train_loss, 'g', label='Training Loss')\n",
        "ax.plot(Main_Test_loss, 'r', label='Testing Loss')\n",
        "ax.plot(sensitivities, 'b', label='Sensitivities')\n",
        "ax.legend()\n",
        "\n",
        "ax.set_xlabel('Epoch')\n",
        "ax.set_ylabel('Loss')\n",
        "plt.show()"
      ]
    },
    {
      "cell_type": "code",
      "source": [],
      "metadata": {
        "colab": {
          "base_uri": "https://localhost:8080/"
        },
        "id": "JaVF0T5x0v50",
        "outputId": "6332061c-0420-41f1-b9a7-74ed40cca535"
      },
      "execution_count": null,
      "outputs": [
        {
          "output_type": "execute_result",
          "data": {
            "text/plain": [
              "[9.92]"
            ]
          },
          "metadata": {},
          "execution_count": 54
        }
      ]
    },
    {
      "cell_type": "code",
      "source": [
        "# Plot the loss over time\n",
        "fig, ax = plt.subplots(figsize=(12, 8))\n",
        "# ax.plot(losses)\n",
        "ax.set_title('Model Accuracy Comparision vs Sensitivity')\n",
        "ax.plot(np.array(Main_Train_acc)/100, 'g', label='Training accuracy')\n",
        "ax.plot(np.array(Main_Test_acc)/100, 'r', label='Testing accuracy')\n",
        "ax.plot(sensitivities, 'b', label='Sensitivities')\n",
        "ax.legend()\n",
        "\n",
        "ax.set_xlabel('Epoch')\n",
        "ax.set_ylabel('Accuracy')\n",
        "plt.show()"
      ],
      "metadata": {
        "colab": {
          "base_uri": "https://localhost:8080/",
          "height": 513
        },
        "id": "VJaDBSXe0h33",
        "outputId": "fc3c0484-335e-4fe4-fd4f-e0d85f4468c4"
      },
      "execution_count": 26,
      "outputs": [
        {
          "output_type": "display_data",
          "data": {
            "text/plain": [
              "<Figure size 864x576 with 1 Axes>"
            ],
            "image/png": "[encoded data removed]"
          },
          "metadata": {
            "needs_background": "light"
          }
        }
      ]
    },
    {
      "cell_type": "code",
      "source": [],
      "metadata": {
        "id": "6rv1ewzS1xqH"
      },
      "execution_count": null,
      "outputs": []
    }
  ],
  "metadata": {
    "accelerator": "GPU",
    "colab": {
      "provenance": [],
      "include_colab_link": true
    },
    "gpuClass": "standard",
    "kernelspec": {
      "display_name": "Python 3 (ipykernel)",
      "language": "python",
      "name": "python3"
    },
    "language_info": {
      "codemirror_mode": {
        "name": "ipython",
        "version": 3
      },
      "file_extension": ".py",
      "mimetype": "text/x-python",
      "name": "python",
      "nbconvert_exporter": "python",
      "pygments_lexer": "ipython3",
      "version": "3.9.12"
    }
  },
  "nbformat": 4,
  "nbformat_minor": 0
}
